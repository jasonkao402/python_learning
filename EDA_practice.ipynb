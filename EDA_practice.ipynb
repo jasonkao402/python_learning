{
  "nbformat": 4,
  "nbformat_minor": 0,
  "metadata": {
    "colab": {
      "name": "EDA practice",
      "provenance": []
    },
    "kernelspec": {
      "name": "python3",
      "display_name": "Python 3"
    }
  },
  "cells": [
    {
      "cell_type": "code",
      "metadata": {
        "id": "jqrc0h_n5YKu",
        "colab_type": "code",
        "colab": {
          "base_uri": "https://localhost:8080/",
          "height": 419
        },
        "outputId": "845dc900-07d0-4bde-c0bf-7c2896a21dba"
      },
      "source": [
        "!wget https://raw.githubusercontent.com/PacktPublishing/Learning-Pandas-Second-Edition/master/data/sp500.csv\n",
        "!wget https://raw.githubusercontent.com/PacktPublishing/Learning-Pandas-Second-Edition/master/data/omh.csv"
      ],
      "execution_count": 5,
      "outputs": [
        {
          "output_type": "stream",
          "text": [
            "--2019-12-10 03:41:25--  https://raw.githubusercontent.com/PacktPublishing/Learning-Pandas-Second-Edition/master/data/sp500.csv\n",
            "Resolving raw.githubusercontent.com (raw.githubusercontent.com)... 151.101.0.133, 151.101.64.133, 151.101.128.133, ...\n",
            "Connecting to raw.githubusercontent.com (raw.githubusercontent.com)|151.101.0.133|:443... connected.\n",
            "HTTP request sent, awaiting response... 200 OK\n",
            "Length: 83629 (82K) [text/plain]\n",
            "Saving to: ‘sp500.csv.1’\n",
            "\n",
            "\rsp500.csv.1           0%[                    ]       0  --.-KB/s               \rsp500.csv.1         100%[===================>]  81.67K  --.-KB/s    in 0.01s   \n",
            "\n",
            "2019-12-10 03:41:25 (5.49 MB/s) - ‘sp500.csv.1’ saved [83629/83629]\n",
            "\n",
            "--2019-12-10 03:41:27--  https://raw.githubusercontent.com/PacktPublishing/Learning-Pandas-Second-Edition/master/data/omh.csv\n",
            "Resolving raw.githubusercontent.com (raw.githubusercontent.com)... 151.101.0.133, 151.101.64.133, 151.101.128.133, ...\n",
            "Connecting to raw.githubusercontent.com (raw.githubusercontent.com)|151.101.0.133|:443... connected.\n",
            "HTTP request sent, awaiting response... 200 OK\n",
            "Length: 539 [text/plain]\n",
            "Saving to: ‘omh.csv.1’\n",
            "\n",
            "omh.csv.1           100%[===================>]     539  --.-KB/s    in 0s      \n",
            "\n",
            "2019-12-10 03:41:27 (94.8 MB/s) - ‘omh.csv.1’ saved [539/539]\n",
            "\n"
          ],
          "name": "stdout"
        }
      ]
    },
    {
      "cell_type": "code",
      "metadata": {
        "id": "xOesuLwx16RV",
        "colab_type": "code",
        "colab": {}
      },
      "source": [
        "# -*- coding: utf-8 -*-\n",
        "import numpy as np\n",
        "import pandas as pd\n",
        "import matplotlib.pyplot as plt\n",
        "\n",
        "# used for dates\n",
        "import datetime\n",
        "from datetime import datetime, date\n",
        "\n",
        "# Set formattign options\n",
        "pd.set_option('display.notebook_repr_html', False)\n",
        "pd.set_option('display.max_columns', 7)\n",
        "pd.set_option('display.max_rows', 10)\n",
        "pd.set_option('display.width', 60)\n",
        "\n",
        "# bring in matplotlib for graphics\n",
        "\n",
        "# %matplotlib inline\n",
        "\n",
        "# read in the data and print the first five rows\n",
        "# use the Symbol column as the index, and \n",
        "# only read in columns in positions 0, 2, 3, 7\n",
        "sp500 = pd.read_csv(\"sp500.csv\", \n",
        "                    index_col='Symbol', \n",
        "                    usecols=[0, 2, 3, 7])\n",
        "\n",
        "# one month of stock history data\n",
        "omh = pd.read_csv(\"omh.csv\")"
      ],
      "execution_count": 0,
      "outputs": []
    },
    {
      "cell_type": "code",
      "metadata": {
        "id": "bL_IPW9y2a4W",
        "colab_type": "code",
        "colab": {
          "base_uri": "https://localhost:8080/",
          "height": 121
        },
        "outputId": "c5d8fa7c-b3da-498c-a93e-083e9b32ff82"
      },
      "source": [
        "# set the seed to allow replicatable results\n",
        "np.random.seed(123456)\n",
        "# create the DataFrame\n",
        "df = pd.DataFrame(np.random.randn(5, 4), columns=['A', 'B', 'C', 'D'])\n",
        "df\n",
        "\n",
        "# multiply everything by 2\n",
        "df * 2\n",
        "\n",
        "# get first row \n",
        "s = df.iloc[0]\n",
        "\n",
        "# subtract first row from every row of the DataFrame\n",
        "diff = df - s \n",
        "diff\n",
        "\n",
        "# subtract DataFrame from Series\n",
        "diff2 = s - df\n",
        "diff2\n",
        "\n",
        "# B, C\n",
        "s2 = s[1:3]\n",
        "# add E\n",
        "s2['E'] = 0\n",
        "# see how alignment is applied in math\n",
        "df + s2\n",
        "\n",
        "# get rows 1 through three, and only B, C columns\n",
        "subframe = df[1:4][['B', 'C']]\n",
        "# we have extracted a little square in the middle of df\n",
        "subframe\n",
        "\n",
        "# demonstrate the alignment of the subtraction\n",
        "df - subframe\n",
        "\n",
        "# get the A column\n",
        "a_col = df['A']\n",
        "df.sub(a_col, axis=0)\n",
        "df"
      ],
      "execution_count": 18,
      "outputs": [
        {
          "output_type": "execute_result",
          "data": {
            "text/plain": [
              "          A         B         C         D\n",
              "0  0.469112 -0.282863 -1.509059 -1.135632\n",
              "1  1.212112 -0.173215  0.119209 -1.044236\n",
              "2 -0.861849 -2.104569 -0.494929  1.071804\n",
              "3  0.721555 -0.706771 -1.039575  0.271860\n",
              "4 -0.424972  0.567020  0.276232 -1.087401"
            ]
          },
          "metadata": {
            "tags": []
          },
          "execution_count": 18
        }
      ]
    },
    {
      "cell_type": "markdown",
      "metadata": {
        "id": "1lCuTkPnDUgP",
        "colab_type": "text"
      },
      "source": [
        "Example question"
      ]
    },
    {
      "cell_type": "code",
      "metadata": {
        "id": "I1A71ZJDBTQC",
        "colab_type": "code",
        "colab": {
          "base_uri": "https://localhost:8080/",
          "height": 173
        },
        "outputId": "3e1243c8-8076-4eee-90e3-2430fd8daf63"
      },
      "source": [
        "mx = pd.DataFrame(np.matrix([[60,60], [59,54], [61,66], [62,71], [58,49], [60,60]]), columns=['a','b'])\n",
        "mx.describe()"
      ],
      "execution_count": 11,
      "outputs": [
        {
          "output_type": "execute_result",
          "data": {
            "text/plain": [
              "               a          b\n",
              "count   6.000000   6.000000\n",
              "mean   60.000000  60.000000\n",
              "std     1.414214   7.924645\n",
              "min    58.000000  49.000000\n",
              "25%    59.250000  55.500000\n",
              "50%    60.000000  60.000000\n",
              "75%    60.750000  64.500000\n",
              "max    62.000000  71.000000"
            ]
          },
          "metadata": {
            "tags": []
          },
          "execution_count": 11
        }
      ]
    }
  ]
}